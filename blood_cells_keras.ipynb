{
 "cells": [
  {
   "cell_type": "code",
   "execution_count": 1,
   "metadata": {},
   "outputs": [],
   "source": [
    "import os\n",
    "import numpy as np"
   ]
  },
  {
   "cell_type": "code",
   "execution_count": 2,
   "metadata": {},
   "outputs": [
    {
     "data": {
      "text/plain": [
       "'/home/djamel/Documents/Master-2/SEMESTRE_1/Fouille_Donnees/Projet'"
      ]
     },
     "execution_count": 2,
     "metadata": {},
     "output_type": "execute_result"
    }
   ],
   "source": [
    "os.getcwd()"
   ]
  },
  {
   "cell_type": "code",
   "execution_count": 3,
   "metadata": {},
   "outputs": [],
   "source": [
    "base_dir='.'"
   ]
  },
  {
   "cell_type": "code",
   "execution_count": 4,
   "metadata": {},
   "outputs": [],
   "source": [
    "train_dir=os.path.join(base_dir,'train')\n",
    "os.mkdir(train_dir)\n",
    "validation_dir=os.path.join(base_dir,'validation')\n",
    "os.mkdir(validation_dir)\n",
    "test_dir=os.path.join(base_dir,'test')\n",
    "os.mkdir(test_dir)"
   ]
  },
  {
   "cell_type": "code",
   "execution_count": 5,
   "metadata": {},
   "outputs": [],
   "source": [
    "train_eosinophil_dir=os.path.join(train_dir,'eosinophil')\n",
    "os.mkdir(train_eosinophil_dir)\n",
    "train_lymphocyte_dir=os.path.join(train_dir,'lymphocyte')\n",
    "os.mkdir(train_lymphocyte_dir)\n",
    "train_monocyte_dir=os.path.join(train_dir,'monocyte')\n",
    "os.mkdir(train_monocyte_dir)\n",
    "train_neutrophil_dir=os.path.join(train_dir,'neutrophil')\n",
    "os.mkdir(train_neutrophil_dir)"
   ]
  },
  {
   "cell_type": "code",
   "execution_count": 6,
   "metadata": {},
   "outputs": [],
   "source": [
    "validation_eosinophil_dir=os.path.join(validation_dir,'eosinophil')\n",
    "os.mkdir(validation_eosinophil_dir)\n",
    "validation_lymphocyte_dir=os.path.join(validation_dir,'lymphocyte')\n",
    "os.mkdir(validation_lymphocyte_dir)\n",
    "validation_monocyte_dir=os.path.join(validation_dir,'monocyte')\n",
    "os.mkdir(validation_monocyte_dir)\n",
    "validation_neutrophil_dir=os.path.join(validation_dir,'neutrophil')\n",
    "os.mkdir(validation_neutrophil_dir)"
   ]
  },
  {
   "cell_type": "code",
   "execution_count": 7,
   "metadata": {},
   "outputs": [],
   "source": [
    "test_eosinophil_dir=os.path.join(test_dir,'eosinophil')\n",
    "os.mkdir(test_eosinophil_dir)\n",
    "test_lymphocyte_dir=os.path.join(test_dir,'lymphocyte')\n",
    "os.mkdir(test_lymphocyte_dir)\n",
    "test_monocyte_dir=os.path.join(test_dir,'monocyte')\n",
    "os.mkdir(test_monocyte_dir)\n",
    "test_neutrophil_dir=os.path.join(test_dir,'neutrophil')\n",
    "os.mkdir(test_neutrophil_dir)"
   ]
  },
  {
   "cell_type": "code",
   "execution_count": 8,
   "metadata": {},
   "outputs": [],
   "source": [
    "import shutil"
   ]
  },
  {
   "cell_type": "code",
   "execution_count": 9,
   "metadata": {},
   "outputs": [],
   "source": [
    "i=0\n",
    "source_eosinophil_dir='./TRAIN/EOSINOPHIL'\n",
    "for fname in os.listdir(source_eosinophil_dir):\n",
    "    if i<1700:\n",
    "        src=os.path.join(source_eosinophil_dir,fname)\n",
    "        dst=os.path.join(train_eosinophil_dir,fname)\n",
    "        shutil.copy(src,dst)\n",
    "    else:\n",
    "        src=os.path.join(source_eosinophil_dir,fname)\n",
    "        dst=os.path.join(validation_eosinophil_dir,fname)\n",
    "        shutil.copy(src,dst)   \n",
    "    i+=1"
   ]
  },
  {
   "cell_type": "code",
   "execution_count": 10,
   "metadata": {},
   "outputs": [],
   "source": [
    "i=0\n",
    "source_lymphocyte_dir='./TRAIN/LYMPHOCYTE'\n",
    "for fname in os.listdir(source_lymphocyte_dir):\n",
    "    if i<1700:\n",
    "        src=os.path.join(source_lymphocyte_dir,fname)\n",
    "        dst=os.path.join(train_lymphocyte_dir,fname)\n",
    "        shutil.copy(src,dst)\n",
    "    else:\n",
    "        src=os.path.join(source_lymphocyte_dir,fname)\n",
    "        dst=os.path.join(validation_lymphocyte_dir,fname)\n",
    "        shutil.copy(src,dst)   \n",
    "    i+=1"
   ]
  },
  {
   "cell_type": "code",
   "execution_count": 11,
   "metadata": {},
   "outputs": [],
   "source": [
    "i=0\n",
    "source_monocyte_dir='./TRAIN/MONOCYTE'\n",
    "for fname in os.listdir(source_monocyte_dir):\n",
    "    if i<1700:\n",
    "        src=os.path.join(source_monocyte_dir,fname)\n",
    "        dst=os.path.join(train_monocyte_dir,fname)\n",
    "        shutil.copy(src,dst)\n",
    "    else:\n",
    "        src=os.path.join(source_monocyte_dir,fname)\n",
    "        dst=os.path.join(validation_monocyte_dir,fname)\n",
    "        shutil.copy(src,dst)   \n",
    "    i+=1"
   ]
  },
  {
   "cell_type": "code",
   "execution_count": 12,
   "metadata": {},
   "outputs": [],
   "source": [
    "i=0\n",
    "source_neutrophil_dir='./TRAIN/NEUTROPHIL'\n",
    "for fname in os.listdir(source_neutrophil_dir):\n",
    "    if i<1700:\n",
    "        src=os.path.join(source_neutrophil_dir,fname)\n",
    "        dst=os.path.join(train_neutrophil_dir,fname)\n",
    "        shutil.copy(src,dst)\n",
    "    else:\n",
    "        src=os.path.join(source_neutrophil_dir,fname)\n",
    "        dst=os.path.join(validation_neutrophil_dir,fname)\n",
    "        shutil.copy(src,dst)   \n",
    "    i+=1"
   ]
  },
  {
   "cell_type": "code",
   "execution_count": 13,
   "metadata": {},
   "outputs": [
    {
     "name": "stderr",
     "output_type": "stream",
     "text": [
      "Using TensorFlow backend.\n"
     ]
    }
   ],
   "source": [
    "from keras import layers\n",
    "from keras import models"
   ]
  },
  {
   "cell_type": "code",
   "execution_count": 54,
   "metadata": {},
   "outputs": [],
   "source": [
    "model = models.Sequential()\n",
    "model.add(layers.Conv2D(32, (3, 3), activation='relu',input_shape=(120, 160, 3)))\n",
    "model.add(layers.MaxPooling2D((2, 2)))\n",
    "model.add(layers.Conv2D(64, (3, 3), activation='relu'))\n",
    "model.add(layers.MaxPooling2D((2, 2)))\n",
    "model.add(layers.Conv2D(128, (3, 3), activation='relu'))\n",
    "model.add(layers.MaxPooling2D((2, 2)))\n",
    "model.add(layers.Conv2D(128, (3, 3), activation='relu'))\n",
    "model.add(layers.MaxPooling2D((2, 2)))\n",
    "model.add(layers.Flatten())\n",
    "model.add(layers.Dense(512, activation='relu'))\n",
    "model.add(layers.Dense(4, activation='softmax'))"
   ]
  },
  {
   "cell_type": "code",
   "execution_count": 55,
   "metadata": {},
   "outputs": [
    {
     "name": "stdout",
     "output_type": "stream",
     "text": [
      "_________________________________________________________________\n",
      "Layer (type)                 Output Shape              Param #   \n",
      "=================================================================\n",
      "conv2d_5 (Conv2D)            (None, 118, 158, 32)      896       \n",
      "_________________________________________________________________\n",
      "max_pooling2d_5 (MaxPooling2 (None, 59, 79, 32)        0         \n",
      "_________________________________________________________________\n",
      "conv2d_6 (Conv2D)            (None, 57, 77, 64)        18496     \n",
      "_________________________________________________________________\n",
      "max_pooling2d_6 (MaxPooling2 (None, 28, 38, 64)        0         \n",
      "_________________________________________________________________\n",
      "conv2d_7 (Conv2D)            (None, 26, 36, 128)       73856     \n",
      "_________________________________________________________________\n",
      "max_pooling2d_7 (MaxPooling2 (None, 13, 18, 128)       0         \n",
      "_________________________________________________________________\n",
      "conv2d_8 (Conv2D)            (None, 11, 16, 128)       147584    \n",
      "_________________________________________________________________\n",
      "max_pooling2d_8 (MaxPooling2 (None, 5, 8, 128)         0         \n",
      "_________________________________________________________________\n",
      "flatten_2 (Flatten)          (None, 5120)              0         \n",
      "_________________________________________________________________\n",
      "dense_5 (Dense)              (None, 512)               2621952   \n",
      "_________________________________________________________________\n",
      "dense_6 (Dense)              (None, 4)                 2052      \n",
      "=================================================================\n",
      "Total params: 2,864,836\n",
      "Trainable params: 2,864,836\n",
      "Non-trainable params: 0\n",
      "_________________________________________________________________\n"
     ]
    }
   ],
   "source": [
    "model.summary()"
   ]
  },
  {
   "cell_type": "code",
   "execution_count": 56,
   "metadata": {},
   "outputs": [],
   "source": [
    "from keras import optimizers"
   ]
  },
  {
   "cell_type": "code",
   "execution_count": 57,
   "metadata": {},
   "outputs": [],
   "source": [
    "# model.compile(loss='binary_crossentropy',\n",
    "#     optimizer=optimizers.RMSprop(lr=1e-4),\n",
    "#     metrics=['acc'])"
   ]
  },
  {
   "cell_type": "code",
   "execution_count": 58,
   "metadata": {},
   "outputs": [],
   "source": [
    "model.compile(loss='categorical_crossentropy',\n",
    "    optimizer='adam',  #adam\n",
    "    metrics=['accuracy'])"
   ]
  },
  {
   "cell_type": "code",
   "execution_count": 59,
   "metadata": {},
   "outputs": [],
   "source": [
    "from keras.preprocessing.image import ImageDataGenerator\n",
    "train_datagen = ImageDataGenerator(rescale=1./255)\n",
    "validation_datagen = ImageDataGenerator(rescale=1./255)"
   ]
  },
  {
   "cell_type": "code",
   "execution_count": 60,
   "metadata": {},
   "outputs": [
    {
     "name": "stdout",
     "output_type": "stream",
     "text": [
      "Found 6800 images belonging to 4 classes.\n"
     ]
    }
   ],
   "source": [
    "train_generator = train_datagen.flow_from_directory(\n",
    "    train_dir,\n",
    "    target_size=(120, 160),\n",
    "    batch_size=20,\n",
    "    class_mode='categorical')\n",
    "    #classes=['eosinophil','lymphocyte','monocyte','neutrophil'])"
   ]
  },
  {
   "cell_type": "code",
   "execution_count": 61,
   "metadata": {},
   "outputs": [
    {
     "data": {
      "text/plain": [
       "{'eosinophil': 0, 'lymphocyte': 1, 'monocyte': 2, 'neutrophil': 3}"
      ]
     },
     "execution_count": 61,
     "metadata": {},
     "output_type": "execute_result"
    }
   ],
   "source": [
    "train_generator.class_indices"
   ]
  },
  {
   "cell_type": "code",
   "execution_count": 62,
   "metadata": {},
   "outputs": [
    {
     "name": "stdout",
     "output_type": "stream",
     "text": [
      "Found 3157 images belonging to 4 classes.\n"
     ]
    }
   ],
   "source": [
    "validation_generator = validation_datagen.flow_from_directory(\n",
    "    validation_dir,\n",
    "    target_size=(120, 160),\n",
    "    batch_size=20,\n",
    "    class_mode='categorical')\n",
    "    #classes=['eosinophil','lymphocyte','monocyte','neutrophil'])"
   ]
  },
  {
   "cell_type": "code",
   "execution_count": 63,
   "metadata": {},
   "outputs": [
    {
     "data": {
      "text/plain": [
       "{'eosinophil': 0, 'lymphocyte': 1, 'monocyte': 2, 'neutrophil': 3}"
      ]
     },
     "execution_count": 63,
     "metadata": {},
     "output_type": "execute_result"
    }
   ],
   "source": [
    "validation_generator.class_indices"
   ]
  },
  {
   "cell_type": "code",
   "execution_count": 64,
   "metadata": {},
   "outputs": [
    {
     "name": "stdout",
     "output_type": "stream",
     "text": [
      "Epoch 1/20\n",
      "10/10 [==============================] - 8s 793ms/step - loss: 1.4038 - acc: 0.2550 - val_loss: 1.3852 - val_acc: 0.2667\n",
      "Epoch 2/20\n",
      "10/10 [==============================] - 7s 741ms/step - loss: 1.3908 - acc: 0.2300 - val_loss: 1.3858 - val_acc: 0.2583\n",
      "Epoch 3/20\n",
      "10/10 [==============================] - 7s 735ms/step - loss: 1.3866 - acc: 0.2550 - val_loss: 1.3862 - val_acc: 0.2650\n",
      "Epoch 4/20\n",
      "10/10 [==============================] - 7s 736ms/step - loss: 1.3876 - acc: 0.2550 - val_loss: 1.3889 - val_acc: 0.2350\n",
      "Epoch 5/20\n",
      "10/10 [==============================] - 7s 735ms/step - loss: 1.3890 - acc: 0.2550 - val_loss: 1.3871 - val_acc: 0.2583\n",
      "Epoch 6/20\n",
      "10/10 [==============================] - 7s 738ms/step - loss: 1.3885 - acc: 0.2400 - val_loss: 1.3856 - val_acc: 0.2613\n",
      "Epoch 7/20\n",
      "10/10 [==============================] - 7s 736ms/step - loss: 1.3866 - acc: 0.2550 - val_loss: 1.3864 - val_acc: 0.2467\n",
      "Epoch 8/20\n",
      "10/10 [==============================] - 7s 735ms/step - loss: 1.3864 - acc: 0.2650 - val_loss: 1.3864 - val_acc: 0.2433\n",
      "Epoch 9/20\n",
      "10/10 [==============================] - 7s 735ms/step - loss: 1.3863 - acc: 0.2650 - val_loss: 1.3864 - val_acc: 0.2483\n",
      "Epoch 10/20\n",
      "10/10 [==============================] - 7s 735ms/step - loss: 1.3870 - acc: 0.2150 - val_loss: 1.3864 - val_acc: 0.2450\n",
      "Epoch 11/20\n",
      "10/10 [==============================] - 7s 734ms/step - loss: 1.3864 - acc: 0.2700 - val_loss: 1.3859 - val_acc: 0.2764\n",
      "Epoch 12/20\n",
      "10/10 [==============================] - 7s 745ms/step - loss: 1.3857 - acc: 0.2400 - val_loss: 1.3866 - val_acc: 0.2267\n",
      "Epoch 13/20\n",
      "10/10 [==============================] - 7s 739ms/step - loss: 1.3864 - acc: 0.2700 - val_loss: 1.3869 - val_acc: 0.2250\n",
      "Epoch 14/20\n",
      "10/10 [==============================] - 7s 738ms/step - loss: 1.3864 - acc: 0.2650 - val_loss: 1.3862 - val_acc: 0.2633\n",
      "Epoch 15/20\n",
      "10/10 [==============================] - 7s 741ms/step - loss: 1.3854 - acc: 0.2750 - val_loss: 1.3874 - val_acc: 0.2217\n",
      "Epoch 16/20\n",
      "10/10 [==============================] - 7s 739ms/step - loss: 1.3871 - acc: 0.2300 - val_loss: 1.3859 - val_acc: 0.2948\n",
      "Epoch 17/20\n",
      "10/10 [==============================] - 7s 737ms/step - loss: 1.3873 - acc: 0.2500 - val_loss: 1.3871 - val_acc: 0.2317\n",
      "Epoch 18/20\n",
      "10/10 [==============================] - 7s 737ms/step - loss: 1.3851 - acc: 0.2900 - val_loss: 1.3878 - val_acc: 0.2067\n",
      "Epoch 19/20\n",
      "10/10 [==============================] - 7s 737ms/step - loss: 1.3877 - acc: 0.2150 - val_loss: 1.3862 - val_acc: 0.2567\n",
      "Epoch 20/20\n",
      "10/10 [==============================] - 7s 738ms/step - loss: 1.3840 - acc: 0.2850 - val_loss: 1.3880 - val_acc: 0.2467\n"
     ]
    }
   ],
   "source": [
    "history = model.fit_generator(\n",
    "    train_generator,\n",
    "    steps_per_epoch=10,  #ligne commentée??\n",
    "    epochs=20,\n",
    "    validation_data=validation_generator,\n",
    "    validation_steps=30)  #ligne commentée??"
   ]
  },
  {
   "cell_type": "code",
   "execution_count": 32,
   "metadata": {},
   "outputs": [
    {
     "data": {
      "text/plain": [
       "'./train'"
      ]
     },
     "execution_count": 32,
     "metadata": {},
     "output_type": "execute_result"
    }
   ],
   "source": [
    "train_dir"
   ]
  },
  {
   "cell_type": "code",
   "execution_count": 33,
   "metadata": {},
   "outputs": [
    {
     "data": {
      "text/plain": [
       "'./train/eosinophil'"
      ]
     },
     "execution_count": 33,
     "metadata": {},
     "output_type": "execute_result"
    }
   ],
   "source": [
    "train_eosinophil_dir"
   ]
  },
  {
   "cell_type": "code",
   "execution_count": 34,
   "metadata": {},
   "outputs": [
    {
     "name": "stdout",
     "output_type": "stream",
     "text": [
      "data batch shape: (20, 120, 160, 3)\n",
      "labels batch shape: (20, 4)\n"
     ]
    }
   ],
   "source": [
    "for data_batch, labels_batch in train_generator:\n",
    "    print('data batch shape:', data_batch.shape)\n",
    "    print('labels batch shape:', labels_batch.shape)\n",
    "    break"
   ]
  },
  {
   "cell_type": "code",
   "execution_count": null,
   "metadata": {},
   "outputs": [],
   "source": []
  },
  {
   "cell_type": "code",
   "execution_count": null,
   "metadata": {},
   "outputs": [],
   "source": []
  },
  {
   "cell_type": "code",
   "execution_count": null,
   "metadata": {},
   "outputs": [],
   "source": []
  },
  {
   "cell_type": "code",
   "execution_count": 35,
   "metadata": {},
   "outputs": [],
   "source": [
    "from keras.applications import VGG16\n",
    "conv_base = VGG16(weights='imagenet',\n",
    "    include_top=False,\n",
    "    input_shape=(120, 160, 3)) "
   ]
  },
  {
   "cell_type": "code",
   "execution_count": 36,
   "metadata": {},
   "outputs": [
    {
     "name": "stdout",
     "output_type": "stream",
     "text": [
      "_________________________________________________________________\n",
      "Layer (type)                 Output Shape              Param #   \n",
      "=================================================================\n",
      "input_1 (InputLayer)         (None, 120, 160, 3)       0         \n",
      "_________________________________________________________________\n",
      "block1_conv1 (Conv2D)        (None, 120, 160, 64)      1792      \n",
      "_________________________________________________________________\n",
      "block1_conv2 (Conv2D)        (None, 120, 160, 64)      36928     \n",
      "_________________________________________________________________\n",
      "block1_pool (MaxPooling2D)   (None, 60, 80, 64)        0         \n",
      "_________________________________________________________________\n",
      "block2_conv1 (Conv2D)        (None, 60, 80, 128)       73856     \n",
      "_________________________________________________________________\n",
      "block2_conv2 (Conv2D)        (None, 60, 80, 128)       147584    \n",
      "_________________________________________________________________\n",
      "block2_pool (MaxPooling2D)   (None, 30, 40, 128)       0         \n",
      "_________________________________________________________________\n",
      "block3_conv1 (Conv2D)        (None, 30, 40, 256)       295168    \n",
      "_________________________________________________________________\n",
      "block3_conv2 (Conv2D)        (None, 30, 40, 256)       590080    \n",
      "_________________________________________________________________\n",
      "block3_conv3 (Conv2D)        (None, 30, 40, 256)       590080    \n",
      "_________________________________________________________________\n",
      "block3_pool (MaxPooling2D)   (None, 15, 20, 256)       0         \n",
      "_________________________________________________________________\n",
      "block4_conv1 (Conv2D)        (None, 15, 20, 512)       1180160   \n",
      "_________________________________________________________________\n",
      "block4_conv2 (Conv2D)        (None, 15, 20, 512)       2359808   \n",
      "_________________________________________________________________\n",
      "block4_conv3 (Conv2D)        (None, 15, 20, 512)       2359808   \n",
      "_________________________________________________________________\n",
      "block4_pool (MaxPooling2D)   (None, 7, 10, 512)        0         \n",
      "_________________________________________________________________\n",
      "block5_conv1 (Conv2D)        (None, 7, 10, 512)        2359808   \n",
      "_________________________________________________________________\n",
      "block5_conv2 (Conv2D)        (None, 7, 10, 512)        2359808   \n",
      "_________________________________________________________________\n",
      "block5_conv3 (Conv2D)        (None, 7, 10, 512)        2359808   \n",
      "_________________________________________________________________\n",
      "block5_pool (MaxPooling2D)   (None, 3, 5, 512)         0         \n",
      "=================================================================\n",
      "Total params: 14,714,688\n",
      "Trainable params: 14,714,688\n",
      "Non-trainable params: 0\n",
      "_________________________________________________________________\n"
     ]
    }
   ],
   "source": [
    "conv_base.summary() "
   ]
  },
  {
   "cell_type": "code",
   "execution_count": 37,
   "metadata": {},
   "outputs": [],
   "source": [
    "datagen = ImageDataGenerator(rescale=1./255)\n",
    "batch_size = 1\n",
    "def extract_features(directory, sample_count):\n",
    "    features = np.zeros(shape=(sample_count, 3, 5, 512))\n",
    "    labels = np.zeros(shape=(sample_count,4))\n",
    "    generator = datagen.flow_from_directory(\n",
    "        directory,\n",
    "        target_size=(120, 160),\n",
    "        batch_size=batch_size,\n",
    "        class_mode='categorical')\n",
    "    i = 0\n",
    "    for inputs_batch, labels_batch in generator:\n",
    "        features_batch = conv_base.predict(inputs_batch)\n",
    "        features[i * batch_size : (i + 1) * batch_size] = features_batch\n",
    "        labels[i * batch_size : (i + 1) * batch_size] = labels_batch\n",
    "        i += 1\n",
    "        if i * batch_size >= sample_count:\n",
    "            break\n",
    "    return features, labels"
   ]
  },
  {
   "cell_type": "code",
   "execution_count": 38,
   "metadata": {},
   "outputs": [
    {
     "name": "stdout",
     "output_type": "stream",
     "text": [
      "Found 6800 images belonging to 4 classes.\n"
     ]
    }
   ],
   "source": [
    "train_features, train_labels = extract_features(train_dir, 6800)"
   ]
  },
  {
   "cell_type": "code",
   "execution_count": 39,
   "metadata": {},
   "outputs": [
    {
     "name": "stdout",
     "output_type": "stream",
     "text": [
      "Found 3157 images belonging to 4 classes.\n"
     ]
    }
   ],
   "source": [
    "validation_features, validation_labels = extract_features(validation_dir, 3100)"
   ]
  },
  {
   "cell_type": "code",
   "execution_count": 41,
   "metadata": {},
   "outputs": [],
   "source": [
    "train_features = np.reshape(train_features, (6800, 3 * 5 * 512))\n",
    "validation_features = np.reshape(validation_features, (3100, 3 * 5 * 512))"
   ]
  },
  {
   "cell_type": "code",
   "execution_count": 65,
   "metadata": {},
   "outputs": [],
   "source": [
    "model = models.Sequential()\n",
    "model.add(layers.Dense(256, activation='relu', input_dim=3 * 5 * 512))\n",
    "model.add(layers.Dropout(0.5))\n",
    "model.add(layers.Dense(4, activation='softmax'))"
   ]
  },
  {
   "cell_type": "code",
   "execution_count": 66,
   "metadata": {},
   "outputs": [],
   "source": [
    "# model.compile(optimizer=optimizers.RMSprop(lr=2e-5),\n",
    "#    loss='binary_crossentropy',\n",
    "#    metrics=['acc'])"
   ]
  },
  {
   "cell_type": "code",
   "execution_count": 67,
   "metadata": {},
   "outputs": [],
   "source": [
    "model.compile(loss='categorical_crossentropy',\n",
    "    optimizer='adam',  #adam\n",
    "    metrics=['accuracy'])"
   ]
  },
  {
   "cell_type": "code",
   "execution_count": 69,
   "metadata": {},
   "outputs": [
    {
     "name": "stdout",
     "output_type": "stream",
     "text": [
      "Train on 6800 samples, validate on 3100 samples\n",
      "Epoch 1/30\n",
      "6800/6800 [==============================] - 8s 1ms/step - loss: 1.0053 - acc: 0.5646 - val_loss: 0.8291 - val_acc: 0.6784\n",
      "Epoch 2/30\n",
      "6800/6800 [==============================] - 8s 1ms/step - loss: 0.8944 - acc: 0.6069 - val_loss: 0.8069 - val_acc: 0.6739\n",
      "Epoch 3/30\n",
      "6800/6800 [==============================] - 8s 1ms/step - loss: 0.8268 - acc: 0.6422 - val_loss: 0.7878 - val_acc: 0.7219\n",
      "Epoch 4/30\n",
      "6800/6800 [==============================] - 8s 1ms/step - loss: 0.8320 - acc: 0.6372 - val_loss: 0.7546 - val_acc: 0.7342\n",
      "Epoch 5/30\n",
      "6800/6800 [==============================] - 8s 1ms/step - loss: 0.7942 - acc: 0.6462 - val_loss: 0.6984 - val_acc: 0.7503\n",
      "Epoch 6/30\n",
      "6800/6800 [==============================] - 8s 1ms/step - loss: 0.7383 - acc: 0.6682 - val_loss: 0.6775 - val_acc: 0.7529\n",
      "Epoch 7/30\n",
      "6800/6800 [==============================] - 8s 1ms/step - loss: 0.6969 - acc: 0.7001 - val_loss: 0.5472 - val_acc: 0.7945\n",
      "Epoch 8/30\n",
      "6800/6800 [==============================] - 8s 1ms/step - loss: 0.6674 - acc: 0.7107 - val_loss: 0.5234 - val_acc: 0.8010\n",
      "Epoch 9/30\n",
      "6800/6800 [==============================] - 8s 1ms/step - loss: 0.6155 - acc: 0.7337 - val_loss: 0.5237 - val_acc: 0.7990\n",
      "Epoch 10/30\n",
      "6800/6800 [==============================] - 8s 1ms/step - loss: 0.6038 - acc: 0.7435 - val_loss: 0.6184 - val_acc: 0.7800\n",
      "Epoch 11/30\n",
      "6800/6800 [==============================] - 8s 1ms/step - loss: 0.5992 - acc: 0.7437 - val_loss: 0.5511 - val_acc: 0.7935\n",
      "Epoch 12/30\n",
      "6800/6800 [==============================] - 8s 1ms/step - loss: 0.5637 - acc: 0.7569 - val_loss: 0.4615 - val_acc: 0.8129\n",
      "Epoch 13/30\n",
      "6800/6800 [==============================] - 9s 1ms/step - loss: 0.5259 - acc: 0.7799 - val_loss: 0.4248 - val_acc: 0.8332\n",
      "Epoch 14/30\n",
      "6800/6800 [==============================] - 8s 1ms/step - loss: 0.5260 - acc: 0.7753 - val_loss: 0.4162 - val_acc: 0.8268\n",
      "Epoch 15/30\n",
      "6800/6800 [==============================] - 8s 1ms/step - loss: 0.5082 - acc: 0.7763 - val_loss: 0.4705 - val_acc: 0.8142\n",
      "Epoch 16/30\n",
      "6800/6800 [==============================] - 8s 1ms/step - loss: 0.5177 - acc: 0.7776 - val_loss: 0.4493 - val_acc: 0.8374\n",
      "Epoch 17/30\n",
      "6800/6800 [==============================] - 8s 1ms/step - loss: 0.4564 - acc: 0.8012 - val_loss: 0.4163 - val_acc: 0.8406\n",
      "Epoch 18/30\n",
      "6800/6800 [==============================] - 8s 1ms/step - loss: 0.4853 - acc: 0.7925 - val_loss: 0.4628 - val_acc: 0.8213\n",
      "Epoch 19/30\n",
      "6800/6800 [==============================] - 8s 1ms/step - loss: 0.4840 - acc: 0.7938 - val_loss: 0.4102 - val_acc: 0.8355\n",
      "Epoch 20/30\n",
      "6800/6800 [==============================] - 8s 1ms/step - loss: 0.4746 - acc: 0.7847 - val_loss: 0.4229 - val_acc: 0.8303\n",
      "Epoch 21/30\n",
      "6800/6800 [==============================] - 8s 1ms/step - loss: 0.4778 - acc: 0.7840 - val_loss: 0.3989 - val_acc: 0.8465\n",
      "Epoch 22/30\n",
      "6800/6800 [==============================] - 8s 1ms/step - loss: 0.4322 - acc: 0.8122 - val_loss: 0.3789 - val_acc: 0.8471\n",
      "Epoch 23/30\n",
      "6800/6800 [==============================] - 8s 1ms/step - loss: 0.4526 - acc: 0.7988 - val_loss: 0.4097 - val_acc: 0.8381\n",
      "Epoch 24/30\n",
      "6800/6800 [==============================] - 8s 1ms/step - loss: 0.4288 - acc: 0.8128 - val_loss: 0.4150 - val_acc: 0.8381\n",
      "Epoch 25/30\n",
      "6800/6800 [==============================] - 8s 1ms/step - loss: 0.4132 - acc: 0.8154 - val_loss: 0.3958 - val_acc: 0.8455\n",
      "Epoch 26/30\n",
      "6800/6800 [==============================] - 8s 1ms/step - loss: 0.4147 - acc: 0.8166 - val_loss: 0.4070 - val_acc: 0.8506\n",
      "Epoch 27/30\n",
      "6800/6800 [==============================] - 9s 1ms/step - loss: 0.4334 - acc: 0.8090 - val_loss: 0.3889 - val_acc: 0.8635\n",
      "Epoch 28/30\n",
      "6800/6800 [==============================] - 10s 1ms/step - loss: 0.3852 - acc: 0.8331 - val_loss: 0.3866 - val_acc: 0.8577\n",
      "Epoch 29/30\n",
      "6800/6800 [==============================] - 9s 1ms/step - loss: 0.4083 - acc: 0.8200 - val_loss: 0.4095 - val_acc: 0.8374\n",
      "Epoch 30/30\n",
      "6800/6800 [==============================] - 9s 1ms/step - loss: 0.4723 - acc: 0.7960 - val_loss: 0.4029 - val_acc: 0.8565\n"
     ]
    }
   ],
   "source": [
    "history = model.fit(train_features, train_labels,\n",
    "    epochs=30,\n",
    "    batch_size=20,\n",
    "    #steps_per_epoch=170,                \n",
    "    validation_data=(validation_features, validation_labels))\n",
    "    #validation_steps=30)"
   ]
  },
  {
   "cell_type": "code",
   "execution_count": 57,
   "metadata": {},
   "outputs": [
    {
     "data": {
      "image/png": "[encoded data removed]",
      "text/plain": [
       "<matplotlib.figure.Figure at 0x7fb74f722dd8>"
      ]
     },
     "metadata": {},
     "output_type": "display_data"
    },
    {
     "data": {
      "image/png": "[encoded data removed]",
      "text/plain": [
       "<matplotlib.figure.Figure at 0x7fb770276400>"
      ]
     },
     "metadata": {},
     "output_type": "display_data"
    }
   ],
   "source": [
    "import matplotlib.pyplot as plt\n",
    "acc = history.history['acc']\n",
    "val_acc = history.history['val_acc']\n",
    "loss = history.history['loss']\n",
    "val_loss = history.history['val_loss']\n",
    "epochs = range(1, len(acc) + 1)\n",
    "\n",
    "plt.plot(epochs, acc, 'bo', label='Training acc')\n",
    "plt.plot(epochs, val_acc, 'b', label='Validation acc')\n",
    "plt.title('Training and validation accuracy')\n",
    "plt.legend(bbox_to_anchor=(1.5, 1),loc='upper right')\n",
    "\n",
    "plt.figure()\n",
    "plt.plot(epochs, loss, 'bo', label='Training loss')\n",
    "plt.plot(epochs, val_loss, 'b', label='Validation loss')\n",
    "plt.title('Training and validation loss')\n",
    "plt.legend(bbox_to_anchor=(1.5, 1),loc='upper right')\n",
    "plt.show()"
   ]
  },
  {
   "cell_type": "code",
   "execution_count": null,
   "metadata": {},
   "outputs": [],
   "source": []
  }
 ],
 "metadata": {
  "kernelspec": {
   "display_name": "Python 3",
   "language": "python",
   "name": "python3"
  },
  "language_info": {
   "codemirror_mode": {
    "name": "ipython",
    "version": 3
   },
   "file_extension": ".py",
   "mimetype": "text/x-python",
   "name": "python",
   "nbconvert_exporter": "python",
   "pygments_lexer": "ipython3",
   "version": "3.5.2"
  }
 },
 "nbformat": 4,
 "nbformat_minor": 2
}
