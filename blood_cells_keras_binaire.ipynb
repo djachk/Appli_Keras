{
 "cells": [
  {
   "cell_type": "code",
   "execution_count": 80,
   "metadata": {},
   "outputs": [],
   "source": [
    "import os\n",
    "import numpy as np"
   ]
  },
  {
   "cell_type": "code",
   "execution_count": 81,
   "metadata": {},
   "outputs": [
    {
     "data": {
      "text/plain": [
       "'/home/djamel/Documents/Master-2/Fouille_Donnees/Manips'"
      ]
     },
     "execution_count": 81,
     "metadata": {},
     "output_type": "execute_result"
    }
   ],
   "source": [
    "os.getcwd()"
   ]
  },
  {
   "cell_type": "code",
   "execution_count": 82,
   "metadata": {},
   "outputs": [],
   "source": [
    "base_dir='.'"
   ]
  },
  {
   "cell_type": "code",
   "execution_count": 83,
   "metadata": {},
   "outputs": [],
   "source": [
    "train_dir=os.path.join(base_dir,'train')\n",
    "os.mkdir(train_dir)\n",
    "validation_dir=os.path.join(base_dir,'validation')\n",
    "os.mkdir(validation_dir)\n",
    "test_dir=os.path.join(base_dir,'test')\n",
    "os.mkdir(test_dir)"
   ]
  },
  {
   "cell_type": "code",
   "execution_count": 84,
   "metadata": {},
   "outputs": [],
   "source": [
    "train_eosinophil_dir=os.path.join(train_dir,'eosinophil')\n",
    "os.mkdir(train_eosinophil_dir)\n",
    "train_lymphocyte_dir=os.path.join(train_dir,'lymphocyte')\n",
    "os.mkdir(train_lymphocyte_dir)\n",
    "# train_monocyte_dir=os.path.join(train_dir,'monocyte')\n",
    "# os.mkdir(train_monocyte_dir)\n",
    "# train_neutrophil_dir=os.path.join(train_dir,'neutrophil')\n",
    "# os.mkdir(train_neutrophil_dir)"
   ]
  },
  {
   "cell_type": "code",
   "execution_count": 85,
   "metadata": {},
   "outputs": [],
   "source": [
    "validation_eosinophil_dir=os.path.join(validation_dir,'eosinophil')\n",
    "os.mkdir(validation_eosinophil_dir)\n",
    "validation_lymphocyte_dir=os.path.join(validation_dir,'lymphocyte')\n",
    "os.mkdir(validation_lymphocyte_dir)\n",
    "# validation_monocyte_dir=os.path.join(validation_dir,'monocyte')\n",
    "# os.mkdir(validation_monocyte_dir)\n",
    "# validation_neutrophil_dir=os.path.join(validation_dir,'neutrophil')\n",
    "# os.mkdir(validation_neutrophil_dir)"
   ]
  },
  {
   "cell_type": "code",
   "execution_count": 86,
   "metadata": {},
   "outputs": [],
   "source": [
    "test_eosinophil_dir=os.path.join(test_dir,'eosinophil')\n",
    "os.mkdir(test_eosinophil_dir)\n",
    "test_lymphocyte_dir=os.path.join(test_dir,'lymphocyte')\n",
    "os.mkdir(test_lymphocyte_dir)\n",
    "# test_monocyte_dir=os.path.join(test_dir,'monocyte')\n",
    "# os.mkdir(test_monocyte_dir)\n",
    "# test_neutrophil_dir=os.path.join(test_dir,'neutrophil')\n",
    "# os.mkdir(test_neutrophil_dir)"
   ]
  },
  {
   "cell_type": "code",
   "execution_count": 87,
   "metadata": {},
   "outputs": [],
   "source": [
    "import shutil"
   ]
  },
  {
   "cell_type": "code",
   "execution_count": 88,
   "metadata": {},
   "outputs": [],
   "source": [
    "i=0\n",
    "source_eosinophil_dir='./TRAIN/EOSINOPHIL'\n",
    "for fname in os.listdir(source_eosinophil_dir):\n",
    "    if i<1700:\n",
    "        src=os.path.join(source_eosinophil_dir,fname)\n",
    "        dst=os.path.join(train_eosinophil_dir,fname)\n",
    "        shutil.copy(src,dst)\n",
    "    else:\n",
    "        src=os.path.join(source_eosinophil_dir,fname)\n",
    "        dst=os.path.join(validation_eosinophil_dir,fname)\n",
    "        shutil.copy(src,dst)   \n",
    "    i+=1"
   ]
  },
  {
   "cell_type": "code",
   "execution_count": 89,
   "metadata": {},
   "outputs": [],
   "source": [
    "i=0\n",
    "source_lymphocyte_dir='./TRAIN/LYMPHOCYTE'\n",
    "for fname in os.listdir(source_lymphocyte_dir):\n",
    "    if i<1700:\n",
    "        src=os.path.join(source_lymphocyte_dir,fname)\n",
    "        dst=os.path.join(train_lymphocyte_dir,fname)\n",
    "        shutil.copy(src,dst)\n",
    "    else:\n",
    "        src=os.path.join(source_lymphocyte_dir,fname)\n",
    "        dst=os.path.join(validation_lymphocyte_dir,fname)\n",
    "        shutil.copy(src,dst)   \n",
    "    i+=1"
   ]
  },
  {
   "cell_type": "code",
   "execution_count": 90,
   "metadata": {},
   "outputs": [],
   "source": [
    "# i=0\n",
    "# source_monocyte_dir='./TRAIN/MONOCYTE'\n",
    "# for fname in os.listdir(source_monocyte_dir):\n",
    "#     if i<1700:\n",
    "#         src=os.path.join(source_monocyte_dir,fname)\n",
    "#         dst=os.path.join(train_monocyte_dir,fname)\n",
    "#         shutil.copy(src,dst)\n",
    "#     else:\n",
    "#         src=os.path.join(source_monocyte_dir,fname)\n",
    "#         dst=os.path.join(validation_monocyte_dir,fname)\n",
    "#         shutil.copy(src,dst)   \n",
    "#     i+=1"
   ]
  },
  {
   "cell_type": "code",
   "execution_count": 91,
   "metadata": {},
   "outputs": [],
   "source": [
    "# i=0\n",
    "# source_neutrophil_dir='./TRAIN/NEUTROPHIL'\n",
    "# for fname in os.listdir(source_neutrophil_dir):\n",
    "#     if i<1700:\n",
    "#         src=os.path.join(source_neutrophil_dir,fname)\n",
    "#         dst=os.path.join(train_neutrophil_dir,fname)\n",
    "#         shutil.copy(src,dst)\n",
    "#     else:\n",
    "#         src=os.path.join(source_neutrophil_dir,fname)\n",
    "#         dst=os.path.join(validation_neutrophil_dir,fname)\n",
    "#         shutil.copy(src,dst)   \n",
    "#     i+=1"
   ]
  },
  {
   "cell_type": "code",
   "execution_count": 92,
   "metadata": {},
   "outputs": [],
   "source": [
    "from keras import layers\n",
    "from keras import models"
   ]
  },
  {
   "cell_type": "code",
   "execution_count": 93,
   "metadata": {},
   "outputs": [],
   "source": [
    "model = models.Sequential()\n",
    "model.add(layers.Conv2D(32, (3, 3), activation='relu',input_shape=(120, 160, 3)))\n",
    "model.add(layers.MaxPooling2D((2, 2)))\n",
    "model.add(layers.Conv2D(64, (3, 3), activation='relu'))\n",
    "model.add(layers.MaxPooling2D((2, 2)))\n",
    "model.add(layers.Conv2D(128, (3, 3), activation='relu'))\n",
    "model.add(layers.MaxPooling2D((2, 2)))\n",
    "model.add(layers.Conv2D(128, (3, 3), activation='relu'))\n",
    "model.add(layers.MaxPooling2D((2, 2)))\n",
    "model.add(layers.Flatten())\n",
    "model.add(layers.Dense(512, activation='relu'))\n",
    "model.add(layers.Dense(1, activation='sigmoid'))"
   ]
  },
  {
   "cell_type": "code",
   "execution_count": 94,
   "metadata": {},
   "outputs": [
    {
     "name": "stdout",
     "output_type": "stream",
     "text": [
      "_________________________________________________________________\n",
      "Layer (type)                 Output Shape              Param #   \n",
      "=================================================================\n",
      "conv2d_13 (Conv2D)           (None, 118, 158, 32)      896       \n",
      "_________________________________________________________________\n",
      "max_pooling2d_13 (MaxPooling (None, 59, 79, 32)        0         \n",
      "_________________________________________________________________\n",
      "conv2d_14 (Conv2D)           (None, 57, 77, 64)        18496     \n",
      "_________________________________________________________________\n",
      "max_pooling2d_14 (MaxPooling (None, 28, 38, 64)        0         \n",
      "_________________________________________________________________\n",
      "conv2d_15 (Conv2D)           (None, 26, 36, 128)       73856     \n",
      "_________________________________________________________________\n",
      "max_pooling2d_15 (MaxPooling (None, 13, 18, 128)       0         \n",
      "_________________________________________________________________\n",
      "conv2d_16 (Conv2D)           (None, 11, 16, 128)       147584    \n",
      "_________________________________________________________________\n",
      "max_pooling2d_16 (MaxPooling (None, 5, 8, 128)         0         \n",
      "_________________________________________________________________\n",
      "flatten_4 (Flatten)          (None, 5120)              0         \n",
      "_________________________________________________________________\n",
      "dense_7 (Dense)              (None, 512)               2621952   \n",
      "_________________________________________________________________\n",
      "dense_8 (Dense)              (None, 1)                 513       \n",
      "=================================================================\n",
      "Total params: 2,863,297\n",
      "Trainable params: 2,863,297\n",
      "Non-trainable params: 0\n",
      "_________________________________________________________________\n"
     ]
    }
   ],
   "source": [
    "model.summary()"
   ]
  },
  {
   "cell_type": "code",
   "execution_count": 95,
   "metadata": {},
   "outputs": [],
   "source": [
    "from keras import optimizers"
   ]
  },
  {
   "cell_type": "code",
   "execution_count": 96,
   "metadata": {},
   "outputs": [],
   "source": [
    "# model.compile(loss='binary_crossentropy',\n",
    "#     optimizer=optimizers.RMSprop(lr=1e-4),\n",
    "#     metrics=['acc'])"
   ]
  },
  {
   "cell_type": "code",
   "execution_count": 97,
   "metadata": {},
   "outputs": [],
   "source": [
    "model.compile(loss='binary_crossentropy',\n",
    "    optimizer=optimizers.RMSprop(lr=1e-4),  #adam\n",
    "    metrics=['acc'])"
   ]
  },
  {
   "cell_type": "code",
   "execution_count": 98,
   "metadata": {},
   "outputs": [],
   "source": [
    "from keras.preprocessing.image import ImageDataGenerator\n",
    "train_datagen = ImageDataGenerator(rescale=1./255)\n",
    "validation_datagen = ImageDataGenerator(rescale=1./255)"
   ]
  },
  {
   "cell_type": "code",
   "execution_count": 99,
   "metadata": {},
   "outputs": [
    {
     "name": "stdout",
     "output_type": "stream",
     "text": [
      "Found 3400 images belonging to 2 classes.\n"
     ]
    }
   ],
   "source": [
    "train_generator = train_datagen.flow_from_directory(\n",
    "    train_dir,\n",
    "    target_size=(120, 160),\n",
    "    batch_size=20,  \n",
    "    class_mode='binary')\n",
    "    #classes=['eosinophil','lymphocyte','monocyte','neutrophil'])"
   ]
  },
  {
   "cell_type": "code",
   "execution_count": 100,
   "metadata": {},
   "outputs": [
    {
     "data": {
      "text/plain": [
       "{'eosinophil': 0, 'lymphocyte': 1}"
      ]
     },
     "execution_count": 100,
     "metadata": {},
     "output_type": "execute_result"
    }
   ],
   "source": [
    "train_generator.class_indices"
   ]
  },
  {
   "cell_type": "code",
   "execution_count": 101,
   "metadata": {},
   "outputs": [
    {
     "name": "stdout",
     "output_type": "stream",
     "text": [
      "Found 1580 images belonging to 2 classes.\n"
     ]
    }
   ],
   "source": [
    "validation_generator = validation_datagen.flow_from_directory(\n",
    "    validation_dir,\n",
    "    target_size=(120, 160),\n",
    "    batch_size=20,\n",
    "    class_mode='binary')\n",
    "    #classes=['eosinophil','lymphocyte','monocyte','neutrophil'])"
   ]
  },
  {
   "cell_type": "code",
   "execution_count": 102,
   "metadata": {},
   "outputs": [
    {
     "data": {
      "text/plain": [
       "{'eosinophil': 0, 'lymphocyte': 1}"
      ]
     },
     "execution_count": 102,
     "metadata": {},
     "output_type": "execute_result"
    }
   ],
   "source": [
    "validation_generator.class_indices"
   ]
  },
  {
   "cell_type": "code",
   "execution_count": 103,
   "metadata": {},
   "outputs": [
    {
     "name": "stdout",
     "output_type": "stream",
     "text": [
      "Epoch 1/20\n",
      "170/170 [==============================] - 72s 426ms/step - loss: 0.6926 - acc: 0.5174 - val_loss: 0.6708 - val_acc: 0.6386\n",
      "Epoch 2/20\n",
      "170/170 [==============================] - 72s 424ms/step - loss: 0.6294 - acc: 0.6556 - val_loss: 0.5397 - val_acc: 0.7582\n",
      "Epoch 3/20\n",
      "170/170 [==============================] - 72s 424ms/step - loss: 0.4926 - acc: 0.7515 - val_loss: 0.4117 - val_acc: 0.8152\n",
      "Epoch 4/20\n",
      "170/170 [==============================] - 77s 453ms/step - loss: 0.3994 - acc: 0.8182 - val_loss: 0.3971 - val_acc: 0.8399\n",
      "Epoch 5/20\n",
      "170/170 [==============================] - 73s 427ms/step - loss: 0.3481 - acc: 0.8429 - val_loss: 0.3845 - val_acc: 0.7994\n",
      "Epoch 6/20\n",
      "170/170 [==============================] - 73s 427ms/step - loss: 0.3019 - acc: 0.8691 - val_loss: 0.2686 - val_acc: 0.8873\n",
      "Epoch 7/20\n",
      "170/170 [==============================] - 73s 427ms/step - loss: 0.2676 - acc: 0.8826 - val_loss: 0.7660 - val_acc: 0.7196\n",
      "Epoch 8/20\n",
      "170/170 [==============================] - 72s 426ms/step - loss: 0.2411 - acc: 0.8997 - val_loss: 0.2147 - val_acc: 0.9316\n",
      "Epoch 9/20\n",
      "170/170 [==============================] - 73s 427ms/step - loss: 0.2004 - acc: 0.9218 - val_loss: 0.1728 - val_acc: 0.9367\n",
      "Epoch 10/20\n",
      "170/170 [==============================] - 73s 428ms/step - loss: 0.1834 - acc: 0.9306 - val_loss: 0.1537 - val_acc: 0.9373\n",
      "Epoch 11/20\n",
      "170/170 [==============================] - 73s 428ms/step - loss: 0.1539 - acc: 0.9424 - val_loss: 0.1513 - val_acc: 0.9443\n",
      "Epoch 12/20\n",
      "170/170 [==============================] - 73s 427ms/step - loss: 0.1310 - acc: 0.9488 - val_loss: 0.1503 - val_acc: 0.9430\n",
      "Epoch 13/20\n",
      "170/170 [==============================] - 73s 429ms/step - loss: 0.1147 - acc: 0.9571 - val_loss: 0.0867 - val_acc: 0.9696\n",
      "Epoch 14/20\n",
      "170/170 [==============================] - 73s 429ms/step - loss: 0.1054 - acc: 0.9574 - val_loss: 0.0682 - val_acc: 0.9753\n",
      "Epoch 15/20\n",
      "170/170 [==============================] - 72s 426ms/step - loss: 0.0814 - acc: 0.9697 - val_loss: 0.0947 - val_acc: 0.9627\n",
      "Epoch 16/20\n",
      "170/170 [==============================] - 73s 427ms/step - loss: 0.0879 - acc: 0.9721 - val_loss: 0.0665 - val_acc: 0.9734\n",
      "Epoch 17/20\n",
      "170/170 [==============================] - 73s 428ms/step - loss: 0.0608 - acc: 0.9768 - val_loss: 0.0609 - val_acc: 0.9722\n",
      "Epoch 18/20\n",
      "170/170 [==============================] - 73s 429ms/step - loss: 0.0930 - acc: 0.9762 - val_loss: 0.0538 - val_acc: 0.9829\n",
      "Epoch 19/20\n",
      "170/170 [==============================] - 72s 426ms/step - loss: 0.0655 - acc: 0.9821 - val_loss: 0.0441 - val_acc: 0.9861\n",
      "Epoch 20/20\n",
      "170/170 [==============================] - 73s 429ms/step - loss: 0.0441 - acc: 0.9856 - val_loss: 0.0298 - val_acc: 0.9899\n"
     ]
    }
   ],
   "source": [
    "history = model.fit_generator(\n",
    "    train_generator,\n",
    "    #steps_per_epoch=50, \n",
    "    epochs=20,\n",
    "    validation_data=validation_generator)\n",
    "    #validation_steps=30)"
   ]
  },
  {
   "cell_type": "code",
   "execution_count": 104,
   "metadata": {},
   "outputs": [
    {
     "data": {
      "image/png": "[encoded data removed]",
      "text/plain": [
       "<matplotlib.figure.Figure at 0x7fda30933d68>"
      ]
     },
     "metadata": {},
     "output_type": "display_data"
    },
    {
     "data": {
      "image/png": "[encoded data removed]",
      "text/plain": [
       "<matplotlib.figure.Figure at 0x7fda3086cfd0>"
      ]
     },
     "metadata": {},
     "output_type": "display_data"
    }
   ],
   "source": [
    "import matplotlib.pyplot as plt\n",
    "acc = history.history['acc']\n",
    "val_acc = history.history['val_acc']\n",
    "loss = history.history['loss']\n",
    "val_loss = history.history['val_loss']\n",
    "epochs = range(1, len(acc) + 1)\n",
    "\n",
    "plt.plot(epochs, acc, 'bo', label='Training acc')\n",
    "plt.plot(epochs, val_acc, 'b', label='Validation acc')\n",
    "plt.title('Training and validation accuracy')\n",
    "#plt.legend(loc='lower right')\n",
    "plt.legend(bbox_to_anchor=(1.5, 1),loc='upper right')\n",
    "plt.figure()\n",
    "plt.plot(epochs, loss, 'bo', label='Training loss')\n",
    "plt.plot(epochs, val_loss, 'b', label='Validation loss')\n",
    "plt.title('Training and validation loss')\n",
    "#plt.legend()\n",
    "plt.legend(bbox_to_anchor=(1.5, 1),loc='upper right')\n",
    "plt.show()"
   ]
  },
  {
   "cell_type": "markdown",
   "metadata": {},
   "source": [
    "## avec modele pré-entrainé ##"
   ]
  },
  {
   "cell_type": "code",
   "execution_count": 105,
   "metadata": {},
   "outputs": [],
   "source": [
    "from keras.applications import VGG16\n",
    "conv_base = VGG16(weights='imagenet',\n",
    "    include_top=False,\n",
    "    input_shape=(120, 160, 3)) "
   ]
  },
  {
   "cell_type": "code",
   "execution_count": 106,
   "metadata": {},
   "outputs": [
    {
     "name": "stdout",
     "output_type": "stream",
     "text": [
      "_________________________________________________________________\n",
      "Layer (type)                 Output Shape              Param #   \n",
      "=================================================================\n",
      "input_1 (InputLayer)         (None, 120, 160, 3)       0         \n",
      "_________________________________________________________________\n",
      "block1_conv1 (Conv2D)        (None, 120, 160, 64)      1792      \n",
      "_________________________________________________________________\n",
      "block1_conv2 (Conv2D)        (None, 120, 160, 64)      36928     \n",
      "_________________________________________________________________\n",
      "block1_pool (MaxPooling2D)   (None, 60, 80, 64)        0         \n",
      "_________________________________________________________________\n",
      "block2_conv1 (Conv2D)        (None, 60, 80, 128)       73856     \n",
      "_________________________________________________________________\n",
      "block2_conv2 (Conv2D)        (None, 60, 80, 128)       147584    \n",
      "_________________________________________________________________\n",
      "block2_pool (MaxPooling2D)   (None, 30, 40, 128)       0         \n",
      "_________________________________________________________________\n",
      "block3_conv1 (Conv2D)        (None, 30, 40, 256)       295168    \n",
      "_________________________________________________________________\n",
      "block3_conv2 (Conv2D)        (None, 30, 40, 256)       590080    \n",
      "_________________________________________________________________\n",
      "block3_conv3 (Conv2D)        (None, 30, 40, 256)       590080    \n",
      "_________________________________________________________________\n",
      "block3_pool (MaxPooling2D)   (None, 15, 20, 256)       0         \n",
      "_________________________________________________________________\n",
      "block4_conv1 (Conv2D)        (None, 15, 20, 512)       1180160   \n",
      "_________________________________________________________________\n",
      "block4_conv2 (Conv2D)        (None, 15, 20, 512)       2359808   \n",
      "_________________________________________________________________\n",
      "block4_conv3 (Conv2D)        (None, 15, 20, 512)       2359808   \n",
      "_________________________________________________________________\n",
      "block4_pool (MaxPooling2D)   (None, 7, 10, 512)        0         \n",
      "_________________________________________________________________\n",
      "block5_conv1 (Conv2D)        (None, 7, 10, 512)        2359808   \n",
      "_________________________________________________________________\n",
      "block5_conv2 (Conv2D)        (None, 7, 10, 512)        2359808   \n",
      "_________________________________________________________________\n",
      "block5_conv3 (Conv2D)        (None, 7, 10, 512)        2359808   \n",
      "_________________________________________________________________\n",
      "block5_pool (MaxPooling2D)   (None, 3, 5, 512)         0         \n",
      "=================================================================\n",
      "Total params: 14,714,688\n",
      "Trainable params: 14,714,688\n",
      "Non-trainable params: 0\n",
      "_________________________________________________________________\n"
     ]
    }
   ],
   "source": [
    "conv_base.summary() "
   ]
  },
  {
   "cell_type": "code",
   "execution_count": 107,
   "metadata": {},
   "outputs": [
    {
     "name": "stdout",
     "output_type": "stream",
     "text": [
      "./train\n",
      "./validation\n"
     ]
    }
   ],
   "source": [
    "print(train_dir)\n",
    "print(validation_dir)"
   ]
  },
  {
   "cell_type": "code",
   "execution_count": 108,
   "metadata": {},
   "outputs": [],
   "source": [
    "datagen = ImageDataGenerator(rescale=1./255)\n",
    "batch_size = 1\n",
    "def extract_features(directory, sample_count):\n",
    "    features = np.zeros(shape=(sample_count, 3, 5, 512))\n",
    "    labels = np.zeros(shape=(sample_count))\n",
    "    generator = datagen.flow_from_directory(\n",
    "        directory,\n",
    "        target_size=(120, 160),\n",
    "        batch_size=batch_size,\n",
    "        class_mode='binary')\n",
    "    i = 0\n",
    "    for inputs_batch, labels_batch in generator:\n",
    "        features_batch = conv_base.predict(inputs_batch)\n",
    "        features[i * batch_size : (i + 1) * batch_size] = features_batch\n",
    "        labels[i * batch_size : (i + 1) * batch_size] = labels_batch\n",
    "        i += 1\n",
    "        if i * batch_size >= sample_count:\n",
    "            break\n",
    "    return features, labels"
   ]
  },
  {
   "cell_type": "code",
   "execution_count": 109,
   "metadata": {},
   "outputs": [
    {
     "name": "stdout",
     "output_type": "stream",
     "text": [
      "Found 3400 images belonging to 2 classes.\n"
     ]
    }
   ],
   "source": [
    "train_features, train_labels = extract_features(train_dir, 3400)"
   ]
  },
  {
   "cell_type": "code",
   "execution_count": 110,
   "metadata": {},
   "outputs": [
    {
     "name": "stdout",
     "output_type": "stream",
     "text": [
      "Found 1580 images belonging to 2 classes.\n"
     ]
    }
   ],
   "source": [
    "validation_features, validation_labels = extract_features(validation_dir, 1500)"
   ]
  },
  {
   "cell_type": "code",
   "execution_count": 111,
   "metadata": {},
   "outputs": [],
   "source": [
    "train_features = np.reshape(train_features, (3400, 3 * 5 * 512))\n",
    "validation_features = np.reshape(validation_features, (1500, 3 * 5 * 512))"
   ]
  },
  {
   "cell_type": "code",
   "execution_count": 112,
   "metadata": {},
   "outputs": [],
   "source": [
    "model = models.Sequential()\n",
    "model.add(layers.Dense(256, activation='relu', input_dim=3 * 5 * 512))\n",
    "model.add(layers.Dropout(0.5))\n",
    "model.add(layers.Dense(1, activation='sigmoid'))"
   ]
  },
  {
   "cell_type": "code",
   "execution_count": 113,
   "metadata": {},
   "outputs": [],
   "source": [
    "model.compile(optimizer=optimizers.RMSprop(lr=2e-5),\n",
    "    loss='binary_crossentropy',\n",
    "    metrics=['acc'])"
   ]
  },
  {
   "cell_type": "code",
   "execution_count": 114,
   "metadata": {},
   "outputs": [
    {
     "name": "stdout",
     "output_type": "stream",
     "text": [
      "Train on 3400 samples, validate on 1500 samples\n",
      "Epoch 1/20\n",
      "3400/3400 [==============================] - 3s 981us/step - loss: 0.7189 - acc: 0.5450 - val_loss: 0.6652 - val_acc: 0.5707\n",
      "Epoch 2/20\n",
      "3400/3400 [==============================] - 3s 911us/step - loss: 0.6500 - acc: 0.6032 - val_loss: 0.6150 - val_acc: 0.7087\n",
      "Epoch 3/20\n",
      "3400/3400 [==============================] - 3s 916us/step - loss: 0.6062 - acc: 0.6876 - val_loss: 0.5880 - val_acc: 0.7553\n",
      "Epoch 4/20\n",
      "3400/3400 [==============================] - 3s 890us/step - loss: 0.5789 - acc: 0.7053 - val_loss: 0.5582 - val_acc: 0.7693\n",
      "Epoch 5/20\n",
      "3400/3400 [==============================] - 3s 888us/step - loss: 0.5424 - acc: 0.7488 - val_loss: 0.5339 - val_acc: 0.7853\n",
      "Epoch 6/20\n",
      "3400/3400 [==============================] - 3s 897us/step - loss: 0.5147 - acc: 0.7741 - val_loss: 0.5213 - val_acc: 0.7773\n",
      "Epoch 7/20\n",
      "3400/3400 [==============================] - 3s 935us/step - loss: 0.4978 - acc: 0.7903 - val_loss: 0.4867 - val_acc: 0.8240\n",
      "Epoch 8/20\n",
      "3400/3400 [==============================] - 3s 896us/step - loss: 0.4689 - acc: 0.8085 - val_loss: 0.4673 - val_acc: 0.8287\n",
      "Epoch 9/20\n",
      "3400/3400 [==============================] - 3s 911us/step - loss: 0.4471 - acc: 0.8215 - val_loss: 0.4495 - val_acc: 0.8380\n",
      "Epoch 10/20\n",
      "3400/3400 [==============================] - 3s 889us/step - loss: 0.4200 - acc: 0.8385 - val_loss: 0.4346 - val_acc: 0.8373\n",
      "Epoch 11/20\n",
      "3400/3400 [==============================] - 3s 902us/step - loss: 0.4057 - acc: 0.8421 - val_loss: 0.4163 - val_acc: 0.8533\n",
      "Epoch 12/20\n",
      "3400/3400 [==============================] - 3s 894us/step - loss: 0.3855 - acc: 0.8576 - val_loss: 0.4043 - val_acc: 0.8567\n",
      "Epoch 13/20\n",
      "3400/3400 [==============================] - 3s 905us/step - loss: 0.3672 - acc: 0.8756 - val_loss: 0.3866 - val_acc: 0.8687\n",
      "Epoch 14/20\n",
      "3400/3400 [==============================] - 3s 904us/step - loss: 0.3529 - acc: 0.8821 - val_loss: 0.3744 - val_acc: 0.8793\n",
      "Epoch 15/20\n",
      "3400/3400 [==============================] - 3s 932us/step - loss: 0.3420 - acc: 0.8812 - val_loss: 0.3679 - val_acc: 0.8760\n",
      "Epoch 16/20\n",
      "3400/3400 [==============================] - 3s 913us/step - loss: 0.3218 - acc: 0.8965 - val_loss: 0.3498 - val_acc: 0.8800\n",
      "Epoch 17/20\n",
      "3400/3400 [==============================] - 3s 913us/step - loss: 0.3138 - acc: 0.8988 - val_loss: 0.3446 - val_acc: 0.8867\n",
      "Epoch 18/20\n",
      "3400/3400 [==============================] - 3s 908us/step - loss: 0.3015 - acc: 0.9068 - val_loss: 0.3305 - val_acc: 0.8847\n",
      "Epoch 19/20\n",
      "3400/3400 [==============================] - 3s 906us/step - loss: 0.2910 - acc: 0.9059 - val_loss: 0.3208 - val_acc: 0.8960\n",
      "Epoch 20/20\n",
      "3400/3400 [==============================] - 3s 928us/step - loss: 0.2790 - acc: 0.9156 - val_loss: 0.3144 - val_acc: 0.8920\n"
     ]
    }
   ],
   "source": [
    "history = model.fit(train_features, train_labels,\n",
    "    epochs=20,\n",
    "    batch_size=20,\n",
    "    #steps_per_epoch=170,                \n",
    "    validation_data=(validation_features, validation_labels))\n",
    "    #validation_steps=30)"
   ]
  },
  {
   "cell_type": "code",
   "execution_count": 116,
   "metadata": {},
   "outputs": [
    {
     "data": {
      "image/png": "[encoded data removed]",
      "text/plain": [
       "<matplotlib.figure.Figure at 0x7fda307e9da0>"
      ]
     },
     "metadata": {},
     "output_type": "display_data"
    },
    {
     "data": {
      "image/png": "[encoded data removed]",
      "text/plain": [
       "<matplotlib.figure.Figure at 0x7fda3042acc0>"
      ]
     },
     "metadata": {},
     "output_type": "display_data"
    }
   ],
   "source": [
    "import matplotlib.pyplot as plt\n",
    "acc = history.history['acc']\n",
    "val_acc = history.history['val_acc']\n",
    "loss = history.history['loss']\n",
    "val_loss = history.history['val_loss']\n",
    "epochs = range(1, len(acc) + 1)\n",
    "\n",
    "plt.plot(epochs, acc, 'bo', label='Training acc')\n",
    "plt.plot(epochs, val_acc, 'b', label='Validation acc')\n",
    "plt.title('Training and validation accuracy')\n",
    "plt.legend(bbox_to_anchor=(1.5, 1),loc='upper right')\n",
    "\n",
    "plt.figure()\n",
    "plt.plot(epochs, loss, 'bo', label='Training loss')\n",
    "plt.plot(epochs, val_loss, 'b', label='Validation loss')\n",
    "plt.title('Training and validation loss')\n",
    "plt.legend(bbox_to_anchor=(1.5, 1),loc='upper right')\n",
    "plt.show()"
   ]
  },
  {
   "cell_type": "code",
   "execution_count": null,
   "metadata": {},
   "outputs": [],
   "source": []
  },
  {
   "cell_type": "code",
   "execution_count": null,
   "metadata": {},
   "outputs": [],
   "source": []
  }
 ],
 "metadata": {
  "kernelspec": {
   "display_name": "Python 3",
   "language": "python",
   "name": "python3"
  },
  "language_info": {
   "codemirror_mode": {
    "name": "ipython",
    "version": 3
   },
   "file_extension": ".py",
   "mimetype": "text/x-python",
   "name": "python",
   "nbconvert_exporter": "python",
   "pygments_lexer": "ipython3",
   "version": "3.5.2"
  }
 },
 "nbformat": 4,
 "nbformat_minor": 2
}
